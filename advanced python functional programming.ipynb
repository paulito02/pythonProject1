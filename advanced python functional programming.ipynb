{
 "cells": [
  {
   "cell_type": "code",
   "execution_count": 2,
   "id": "7e806a3d",
   "metadata": {},
   "outputs": [
    {
     "name": "stdout",
     "output_type": "stream",
     "text": [
      "[2, 4, 6]\n"
     ]
    }
   ],
   "source": [
    "#  functional programming\n",
    "def multiply_by2(li):\n",
    "    new_list = []\n",
    "    for item in li:\n",
    "        new_list.append(item*2)\n",
    "    return new_list\n",
    "\n",
    "print(multiply_by2([1,2,3]))"
   ]
  },
  {
   "cell_type": "code",
   "execution_count": 17,
   "id": "847c759f",
   "metadata": {},
   "outputs": [
    {
     "name": "stdout",
     "output_type": "stream",
     "text": [
      "1234\n",
      "[2468]\n",
      "[1234]\n"
     ]
    }
   ],
   "source": [
    "my_list=[int(input())]\n",
    "# map:map(action, iterable)\n",
    "def multiply_by2(item):\n",
    "    return item*2\n",
    "\n",
    "print(list(map(multiply_by2, my_list)))\n",
    "print(my_list)"
   ]
  },
  {
   "cell_type": "code",
   "execution_count": 15,
   "id": "21d2051a",
   "metadata": {},
   "outputs": [
    {
     "name": "stdout",
     "output_type": "stream",
     "text": [
      "123\n",
      "[123]\n",
      "[123]\n"
     ]
    }
   ],
   "source": [
    "# filter\n",
    "my_list=[int(input())]\n",
    "def only_odd(item):\n",
    "    return item % 2 != 0 \n",
    "print(list(filter(only_odd, my_list)))\n",
    "print(my_list)"
   ]
  },
  {
   "cell_type": "code",
   "execution_count": 20,
   "id": "937cb676",
   "metadata": {},
   "outputs": [
    {
     "name": "stdout",
     "output_type": "stream",
     "text": [
      "[(1, 10), (2, 23), (3, 11)]\n"
     ]
    }
   ],
   "source": [
    "# zip\n",
    "my_list=[1,2,3,4]\n",
    "your_list=[10,23,11]\n",
    "\n",
    "print(list(zip(my_list, your_list)))\n",
    "\n"
   ]
  },
  {
   "cell_type": "code",
   "execution_count": 21,
   "id": "d0b7d1a7",
   "metadata": {},
   "outputs": [
    {
     "name": "stdout",
     "output_type": "stream",
     "text": [
      "0 1\n",
      "1 2\n",
      "3 3\n",
      "6 4\n",
      "10\n"
     ]
    }
   ],
   "source": [
    "# reduce\n",
    "from functools import reduce\n",
    "my_list=[1,2,3,4]\n",
    "def accumulator(acc, item):\n",
    "    print(acc, item)\n",
    "    return acc + item\n",
    "print(reduce(accumulator,my_list, 0))\n"
   ]
  },
  {
   "cell_type": "code",
   "execution_count": 30,
   "id": "b4d5b862",
   "metadata": {},
   "outputs": [
    {
     "name": "stdout",
     "output_type": "stream",
     "text": [
      "[25, 16, 9]\n"
     ]
    }
   ],
   "source": [
    "# lambda expression\n",
    "my_list = [5,4,3]\n",
    "new_list = list(map(lambda num: num**2, my_list))\n",
    "print(new_list)"
   ]
  },
  {
   "cell_type": "code",
   "execution_count": 33,
   "id": "e8337219",
   "metadata": {},
   "outputs": [
    {
     "name": "stdout",
     "output_type": "stream",
     "text": [
      "[(1, 10), (2, 23), (3, 11), (4, 21)]\n"
     ]
    }
   ],
   "source": [
    "my_list=[1,2,3,4]\n",
    "your_list=[10,23,11,21]\n",
    "\n",
    "a=list(zip(my_list, your_list))\n",
    "a.sort()\n",
    "print(a)"
   ]
  },
  {
   "cell_type": "code",
   "execution_count": 34,
   "id": "310c0938",
   "metadata": {},
   "outputs": [
    {
     "name": "stdout",
     "output_type": "stream",
     "text": [
      "[(1, 10), (3, 11), (4, 21), (2, 23)]\n"
     ]
    }
   ],
   "source": [
    "my_list=[1,2,3,4]\n",
    "your_list=[10,23,11,21]\n",
    "\n",
    "a=list(zip(my_list, your_list))\n",
    "a.sort(key=lambda x: x[1])\n",
    "print(a)"
   ]
  },
  {
   "cell_type": "code",
   "execution_count": 2,
   "id": "93dbcb23",
   "metadata": {},
   "outputs": [
    {
     "name": "stdout",
     "output_type": "stream",
     "text": [
      "['h', 'e', 'l', 'l', 'o']\n",
      "[0, 1, 2, 3, 4, 5, 6, 7, 8, 9, 10, 11, 12, 13, 14, 15, 16, 17, 18, 19, 20, 21, 22, 23, 24, 25, 26, 27, 28, 29, 30, 31, 32, 33, 34, 35, 36, 37, 38, 39, 40, 41, 42, 43, 44, 45, 46, 47, 48, 49, 50, 51, 52, 53, 54, 55, 56, 57, 58, 59, 60, 61, 62, 63, 64, 65, 66, 67, 68, 69, 70, 71, 72, 73, 74, 75, 76, 77, 78, 79, 80, 81, 82, 83, 84, 85, 86, 87, 88, 89, 90, 91, 92, 93, 94, 95, 96, 97, 98, 99]\n"
     ]
    }
   ],
   "source": [
    "# list or setor dict  comprehension\n",
    "a=[char for char in 'hello']\n",
    "b=[num for num in range(0,100)]\n",
    "\n",
    "print(a)\n",
    "print(b)"
   ]
  },
  {
   "cell_type": "code",
   "execution_count": 4,
   "id": "0f6fa96f",
   "metadata": {},
   "outputs": [
    {
     "name": "stdout",
     "output_type": "stream",
     "text": [
      "[0, 2, 4, 6, 8, 10, 12, 14, 16, 18, 20, 22, 24, 26, 28, 30, 32, 34, 36, 38, 40, 42, 44, 46, 48, 50, 52, 54, 56, 58, 60, 62, 64, 66, 68, 70, 72, 74, 76, 78, 80, 82, 84, 86, 88, 90, 92, 94, 96, 98]\n"
     ]
    }
   ],
   "source": [
    "b=[num for num in range(0,100) if num % 2 ==0]\n",
    "print(b)"
   ]
  },
  {
   "cell_type": "code",
   "execution_count": 3,
   "id": "7b3649ec",
   "metadata": {},
   "outputs": [
    {
     "name": "stdout",
     "output_type": "stream",
     "text": [
      "{'d': 4}\n"
     ]
    }
   ],
   "source": [
    "a_dict = {\n",
    "    'c': 1,\n",
    "    'd': 2\n",
    "}\n",
    "b_dict = {k:v**2 for k,v in a_dict.items() if v%2==0}\n",
    "print(b_dict)"
   ]
  },
  {
   "cell_type": "code",
   "execution_count": 4,
   "id": "75d01f2b",
   "metadata": {},
   "outputs": [
    {
     "name": "stdout",
     "output_type": "stream",
     "text": [
      "{1: 2, 2: 4, 3: 6}\n"
     ]
    }
   ],
   "source": [
    "my_dict = {num:num*2 for num in [1,2,3]}\n",
    "print(my_dict)"
   ]
  },
  {
   "cell_type": "code",
   "execution_count": 5,
   "id": "8f3417dd",
   "metadata": {},
   "outputs": [
    {
     "name": "stdout",
     "output_type": "stream",
     "text": [
      "['b', 'n']\n"
     ]
    }
   ],
   "source": [
    "some_list = ['a','b','c','b','d','m','n','n']\n",
    "duplicates = []\n",
    "for value in some_list:\n",
    "    if some_list.count(value) > 1:\n",
    "        if value not in duplicates:\n",
    "            duplicates.append(value)\n",
    "print(duplicates)"
   ]
  },
  {
   "cell_type": "code",
   "execution_count": 9,
   "id": "f5f409fd",
   "metadata": {},
   "outputs": [
    {
     "name": "stdout",
     "output_type": "stream",
     "text": [
      "['b', 'n']\n"
     ]
    }
   ],
   "source": [
    "# some_list = ['a','b','c','b','d','m','n','n']\n",
    "duplicates=list(set([x for x in some_list if some_list.count(x) > 1]))\n",
    "print(duplicates)"
   ]
  },
  {
   "cell_type": "code",
   "execution_count": null,
   "id": "ae806f80",
   "metadata": {},
   "outputs": [],
   "source": []
  },
  {
   "cell_type": "code",
   "execution_count": null,
   "id": "13fb515f",
   "metadata": {},
   "outputs": [],
   "source": []
  }
 ],
 "metadata": {
  "kernelspec": {
   "display_name": "Python 3",
   "language": "python",
   "name": "python3"
  },
  "language_info": {
   "codemirror_mode": {
    "name": "ipython",
    "version": 3
   },
   "file_extension": ".py",
   "mimetype": "text/x-python",
   "name": "python",
   "nbconvert_exporter": "python",
   "pygments_lexer": "ipython3",
   "version": "3.8.8"
  }
 },
 "nbformat": 4,
 "nbformat_minor": 5
}
