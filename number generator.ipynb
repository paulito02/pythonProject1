{
 "cells": [
  {
   "cell_type": "code",
   "execution_count": 1,
   "metadata": {},
   "outputs": [
    {
     "name": "stdout",
     "output_type": "stream",
     "text": [
      "81554252"
     ]
    }
   ],
   "source": [
    "from random import randrange\n",
    "for i in range(0, 8):   # produce 8 digit number\n",
    "    puk = randrange(1, 10)  # generate random number in the range 1....6\n",
    "    print (puk,end=\"\")"
   ]
  },
  {
   "cell_type": "code",
   "execution_count": null,
   "metadata": {},
   "outputs": [],
   "source": [
    "pin =str(input(\"input your pin\"))\n",
    "\n",
    "if len(pin) == 4:\n",
    "    print(\"4 digit pin successfully set\")\n",
    "    print(\"keep it save\")\n",
    "else:\n",
    "    print(pin)\n",
    "from random import randrange\n",
    "for i in range(0, 8):   # produce 8 digit number\n",
    "    puk = randrange(1, 10)  # generate random number in the range 1....6\n",
    "   \n",
    "    print (puk,end=\"\")    \n",
    "print('')\n",
    "pin_attempts = 4\n",
    "puk_attempts = 8\n",
    "pin_count = 0\n",
    "puk_count = 0\n",
    "user_input = \" \"\n",
    "\n",
    "while user_input != pin and pin_count < pin_attempts:\n",
    "    user_input = input(\"please enter your 4 digit pin : \")\n",
    "    pin_count += 1\n",
    "    remaining_attempts =str (pin_attempts - pin_count)\n",
    "    if user_input == str(pin):\n",
    "        print(\"✔ correct\" \"welcome\")\n",
    "        break\n",
    "    elif user_input != pin and pin_count < pin_attempts:\n",
    "        print(\"× incorrect pin please try again\")\n",
    "        print(\"you have \" + remaining_attempts + \" attempt(s) left\")\n",
    "        if pin_count == 3:\n",
    "            print(\"you have 1 more chance or else you pin will be blocked😯\")\n",
    "        else:\n",
    "            continue\n",
    "    else:\n",
    "        print(\"your pin has been blocked!\")\n",
    "#  to unblock the pin        \n",
    "while user_input != puk and puk_count < puk_attempts:\n",
    "    user_input=input(\"input your puk number\")\n",
    "    puk_count += 1\n",
    "    remaining_attempts = str(puk_attempts - puk_count)\n",
    "    if user_input == puk:\n",
    "         print(\"✔ correct\"\"your line has be unblocked\")\n",
    "         break\n",
    "    elif user_input != puk and puk_count < puk_attempts:\n",
    "         print(\"incorrect, please try again \")\n",
    "         print(\"you have \" + remaining_attempts + \"attempt(s) left\")\n",
    "         if puk_count == 7:\n",
    "            print(\"you have 1 more chance or else you pin will be blocked😯\")\n",
    "    else:\n",
    "        print(\"your sim has been blocked\")\n",
    "\n",
    "\n"
   ]
  },
  {
   "cell_type": "code",
   "execution_count": null,
   "metadata": {},
   "outputs": [],
   "source": []
  }
 ],
 "metadata": {
  "kernelspec": {
   "display_name": "Python 3",
   "language": "python",
   "name": "python3"
  },
  "language_info": {
   "codemirror_mode": {
    "name": "ipython",
    "version": 3
   },
   "file_extension": ".py",
   "mimetype": "text/x-python",
   "name": "python",
   "nbconvert_exporter": "python",
   "pygments_lexer": "ipython3",
   "version": "3.8.8"
  }
 },
 "nbformat": 4,
 "nbformat_minor": 4
}
